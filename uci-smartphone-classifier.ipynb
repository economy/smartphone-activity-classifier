{
 "cells": [
  {
   "cell_type": "markdown",
   "metadata": {},
   "source": [
    "# Analysis of UCI ML Human Activity Recognition Using Smartphones Dataset\n",
    "_economy_, 18 Jan 2018\n",
    "\n",
    "Data page here:\n",
    "https://archive.ics.uci.edu/ml/datasets/Smartphone-Based+Recognition+of+Human+Activities+and+Postural+Transitions\n",
    "\n",
    "Dataset description found here:\n",
    "http://archive.ics.uci.edu/ml/machine-learning-databases/00240/UCI%20HAR%20Dataset.names"
   ]
  },
  {
   "cell_type": "code",
   "execution_count": 84,
   "metadata": {},
   "outputs": [],
   "source": [
    "import pandas as pd\n",
    "import numpy as np\n",
    "\n",
    "import keras\n",
    "import keras.layers as L\n",
    "import keras.models as M"
   ]
  },
  {
   "cell_type": "markdown",
   "metadata": {},
   "source": [
    "# Import datasets"
   ]
  },
  {
   "cell_type": "markdown",
   "metadata": {},
   "source": [
    "### Feature List"
   ]
  },
  {
   "cell_type": "code",
   "execution_count": 56,
   "metadata": {},
   "outputs": [],
   "source": [
    "with open('uci_har_dataset/features.txt', 'r') as f:\n",
    "    features = [ \n",
    "        x\n",
    "        .strip()\n",
    "        .replace('()', '')\n",
    "        .replace(',', '')\n",
    "        .split(' ')[-1]\n",
    "        for x in f.readlines() \n",
    "    ]"
   ]
  },
  {
   "cell_type": "code",
   "execution_count": 205,
   "metadata": {},
   "outputs": [
    {
     "data": {
      "text/plain": [
       "['tBodyAcc-mean-X',\n",
       " 'tBodyAcc-mean-Y',\n",
       " 'tBodyAcc-mean-Z',\n",
       " 'tBodyAcc-std-X',\n",
       " 'tBodyAcc-std-Y',\n",
       " 'tBodyAcc-std-Z',\n",
       " 'tBodyAcc-mad-X',\n",
       " 'tBodyAcc-mad-Y',\n",
       " 'tBodyAcc-mad-Z',\n",
       " 'tBodyAcc-max-X']"
      ]
     },
     "execution_count": 205,
     "metadata": {},
     "output_type": "execute_result"
    }
   ],
   "source": [
    "features[0:10]"
   ]
  },
  {
   "cell_type": "code",
   "execution_count": 36,
   "metadata": {},
   "outputs": [
    {
     "data": {
      "text/plain": [
       "561"
      ]
     },
     "execution_count": 36,
     "metadata": {},
     "output_type": "execute_result"
    }
   ],
   "source": [
    "len(features)"
   ]
  },
  {
   "cell_type": "markdown",
   "metadata": {},
   "source": [
    "### IDs of participants"
   ]
  },
  {
   "cell_type": "code",
   "execution_count": 30,
   "metadata": {},
   "outputs": [],
   "source": [
    "with open('uci_har_dataset/train/subject_train.txt', 'r') as f:\n",
    "    train_id = pd.Series([int(x.strip()) for x in f.readlines()])"
   ]
  },
  {
   "cell_type": "code",
   "execution_count": 32,
   "metadata": {},
   "outputs": [
    {
     "data": {
      "text/plain": [
       "25    409\n",
       "21    408\n",
       "26    392\n",
       "30    383\n",
       "28    382\n",
       "27    376\n",
       "23    372\n",
       "17    368\n",
       "16    366\n",
       "19    360\n",
       "1     347\n",
       "29    344\n",
       "3     341\n",
       "15    328\n",
       "6     325\n",
       "14    323\n",
       "22    321\n",
       "11    316\n",
       "7     308\n",
       "5     302\n",
       "8     281\n",
       "dtype: int64"
      ]
     },
     "execution_count": 32,
     "metadata": {},
     "output_type": "execute_result"
    }
   ],
   "source": [
    "train_id.value_counts()"
   ]
  },
  {
   "cell_type": "markdown",
   "metadata": {},
   "source": [
    "### Activity labels\n",
    "- 1 = Walking (flat)\n",
    "- 2 = Walking (up stairs)\n",
    "- 3 = Walking (down stairs)\n",
    "- 4 = Sitting\n",
    "- 5 = Standing\n",
    "- 6 = Laying"
   ]
  },
  {
   "cell_type": "code",
   "execution_count": 68,
   "metadata": {},
   "outputs": [],
   "source": [
    "with open('uci_har_dataset/train/y_train.txt', 'r') as f:\n",
    "    train_tags = pd.Series([ int(x.strip()) for x in f.readlines() ])"
   ]
  },
  {
   "cell_type": "code",
   "execution_count": 69,
   "metadata": {},
   "outputs": [
    {
     "data": {
      "text/plain": [
       "0    5\n",
       "1    5\n",
       "2    5\n",
       "3    5\n",
       "4    5\n",
       "5    5\n",
       "6    5\n",
       "7    5\n",
       "8    5\n",
       "9    5\n",
       "dtype: int64"
      ]
     },
     "execution_count": 69,
     "metadata": {},
     "output_type": "execute_result"
    }
   ],
   "source": [
    "train_tags[0:10]"
   ]
  },
  {
   "cell_type": "markdown",
   "metadata": {},
   "source": [
    "### Load feature vector \n",
    "NB: training set was altered to be comma-separated using `sed 's/ \\{1,\\}/,/g` on command line\n",
    "\n",
    "This causes the first column to be empty (due to leading space), so we drop it immediately"
   ]
  },
  {
   "cell_type": "code",
   "execution_count": 90,
   "metadata": {},
   "outputs": [],
   "source": [
    "train_df = pd.read_csv('./uci_har_dataset/train/X_train_a.txt', sep=\",\", header=None).drop(0, axis=1)"
   ]
  },
  {
   "cell_type": "code",
   "execution_count": 91,
   "metadata": {},
   "outputs": [
    {
     "data": {
      "text/plain": [
       "(7352, 561)"
      ]
     },
     "execution_count": 91,
     "metadata": {},
     "output_type": "execute_result"
    }
   ],
   "source": [
    "train_df.shape"
   ]
  },
  {
   "cell_type": "code",
   "execution_count": 92,
   "metadata": {},
   "outputs": [],
   "source": [
    "train_df.columns = features"
   ]
  },
  {
   "cell_type": "code",
   "execution_count": 93,
   "metadata": {},
   "outputs": [
    {
     "data": {
      "text/html": [
       "<div>\n",
       "<style>\n",
       "    .dataframe thead tr:only-child th {\n",
       "        text-align: right;\n",
       "    }\n",
       "\n",
       "    .dataframe thead th {\n",
       "        text-align: left;\n",
       "    }\n",
       "\n",
       "    .dataframe tbody tr th {\n",
       "        vertical-align: top;\n",
       "    }\n",
       "</style>\n",
       "<table border=\"1\" class=\"dataframe\">\n",
       "  <thead>\n",
       "    <tr style=\"text-align: right;\">\n",
       "      <th></th>\n",
       "      <th>tBodyAcc-mean-X</th>\n",
       "      <th>tBodyAcc-mean-Y</th>\n",
       "      <th>tBodyAcc-mean-Z</th>\n",
       "      <th>tBodyAcc-std-X</th>\n",
       "      <th>tBodyAcc-std-Y</th>\n",
       "      <th>tBodyAcc-std-Z</th>\n",
       "      <th>tBodyAcc-mad-X</th>\n",
       "      <th>tBodyAcc-mad-Y</th>\n",
       "      <th>tBodyAcc-mad-Z</th>\n",
       "      <th>tBodyAcc-max-X</th>\n",
       "      <th>...</th>\n",
       "      <th>fBodyBodyGyroJerkMag-meanFreq</th>\n",
       "      <th>fBodyBodyGyroJerkMag-skewness</th>\n",
       "      <th>fBodyBodyGyroJerkMag-kurtosis</th>\n",
       "      <th>angle(tBodyAccMeangravity)</th>\n",
       "      <th>angle(tBodyAccJerkMean)gravityMean)</th>\n",
       "      <th>angle(tBodyGyroMeangravityMean)</th>\n",
       "      <th>angle(tBodyGyroJerkMeangravityMean)</th>\n",
       "      <th>angle(XgravityMean)</th>\n",
       "      <th>angle(YgravityMean)</th>\n",
       "      <th>angle(ZgravityMean)</th>\n",
       "    </tr>\n",
       "  </thead>\n",
       "  <tbody>\n",
       "    <tr>\n",
       "      <th>0</th>\n",
       "      <td>0.288585</td>\n",
       "      <td>-0.020294</td>\n",
       "      <td>-0.132905</td>\n",
       "      <td>-0.995279</td>\n",
       "      <td>-0.983111</td>\n",
       "      <td>-0.913526</td>\n",
       "      <td>-0.995112</td>\n",
       "      <td>-0.983185</td>\n",
       "      <td>-0.923527</td>\n",
       "      <td>-0.934724</td>\n",
       "      <td>...</td>\n",
       "      <td>-0.074323</td>\n",
       "      <td>-0.298676</td>\n",
       "      <td>-0.710304</td>\n",
       "      <td>-0.112754</td>\n",
       "      <td>0.030400</td>\n",
       "      <td>-0.464761</td>\n",
       "      <td>-0.018446</td>\n",
       "      <td>-0.841247</td>\n",
       "      <td>0.179941</td>\n",
       "      <td>-0.058627</td>\n",
       "    </tr>\n",
       "    <tr>\n",
       "      <th>1</th>\n",
       "      <td>0.278419</td>\n",
       "      <td>-0.016411</td>\n",
       "      <td>-0.123520</td>\n",
       "      <td>-0.998245</td>\n",
       "      <td>-0.975300</td>\n",
       "      <td>-0.960322</td>\n",
       "      <td>-0.998807</td>\n",
       "      <td>-0.974914</td>\n",
       "      <td>-0.957686</td>\n",
       "      <td>-0.943068</td>\n",
       "      <td>...</td>\n",
       "      <td>0.158075</td>\n",
       "      <td>-0.595051</td>\n",
       "      <td>-0.861499</td>\n",
       "      <td>0.053477</td>\n",
       "      <td>-0.007435</td>\n",
       "      <td>-0.732626</td>\n",
       "      <td>0.703511</td>\n",
       "      <td>-0.844788</td>\n",
       "      <td>0.180289</td>\n",
       "      <td>-0.054317</td>\n",
       "    </tr>\n",
       "    <tr>\n",
       "      <th>2</th>\n",
       "      <td>0.279653</td>\n",
       "      <td>-0.019467</td>\n",
       "      <td>-0.113462</td>\n",
       "      <td>-0.995380</td>\n",
       "      <td>-0.967187</td>\n",
       "      <td>-0.978944</td>\n",
       "      <td>-0.996520</td>\n",
       "      <td>-0.963668</td>\n",
       "      <td>-0.977469</td>\n",
       "      <td>-0.938692</td>\n",
       "      <td>...</td>\n",
       "      <td>0.414503</td>\n",
       "      <td>-0.390748</td>\n",
       "      <td>-0.760104</td>\n",
       "      <td>-0.118559</td>\n",
       "      <td>0.177899</td>\n",
       "      <td>0.100699</td>\n",
       "      <td>0.808529</td>\n",
       "      <td>-0.848933</td>\n",
       "      <td>0.180637</td>\n",
       "      <td>-0.049118</td>\n",
       "    </tr>\n",
       "    <tr>\n",
       "      <th>3</th>\n",
       "      <td>0.279174</td>\n",
       "      <td>-0.026201</td>\n",
       "      <td>-0.123283</td>\n",
       "      <td>-0.996091</td>\n",
       "      <td>-0.983403</td>\n",
       "      <td>-0.990675</td>\n",
       "      <td>-0.997099</td>\n",
       "      <td>-0.982750</td>\n",
       "      <td>-0.989302</td>\n",
       "      <td>-0.938692</td>\n",
       "      <td>...</td>\n",
       "      <td>0.404573</td>\n",
       "      <td>-0.117290</td>\n",
       "      <td>-0.482845</td>\n",
       "      <td>-0.036788</td>\n",
       "      <td>-0.012892</td>\n",
       "      <td>0.640011</td>\n",
       "      <td>-0.485366</td>\n",
       "      <td>-0.848649</td>\n",
       "      <td>0.181935</td>\n",
       "      <td>-0.047663</td>\n",
       "    </tr>\n",
       "    <tr>\n",
       "      <th>4</th>\n",
       "      <td>0.276629</td>\n",
       "      <td>-0.016570</td>\n",
       "      <td>-0.115362</td>\n",
       "      <td>-0.998139</td>\n",
       "      <td>-0.980817</td>\n",
       "      <td>-0.990482</td>\n",
       "      <td>-0.998321</td>\n",
       "      <td>-0.979672</td>\n",
       "      <td>-0.990441</td>\n",
       "      <td>-0.942469</td>\n",
       "      <td>...</td>\n",
       "      <td>0.087753</td>\n",
       "      <td>-0.351471</td>\n",
       "      <td>-0.699205</td>\n",
       "      <td>0.123320</td>\n",
       "      <td>0.122542</td>\n",
       "      <td>0.693578</td>\n",
       "      <td>-0.615971</td>\n",
       "      <td>-0.847865</td>\n",
       "      <td>0.185151</td>\n",
       "      <td>-0.043892</td>\n",
       "    </tr>\n",
       "  </tbody>\n",
       "</table>\n",
       "<p>5 rows × 561 columns</p>\n",
       "</div>"
      ],
      "text/plain": [
       "   tBodyAcc-mean-X  tBodyAcc-mean-Y  tBodyAcc-mean-Z  tBodyAcc-std-X  \\\n",
       "0         0.288585        -0.020294        -0.132905       -0.995279   \n",
       "1         0.278419        -0.016411        -0.123520       -0.998245   \n",
       "2         0.279653        -0.019467        -0.113462       -0.995380   \n",
       "3         0.279174        -0.026201        -0.123283       -0.996091   \n",
       "4         0.276629        -0.016570        -0.115362       -0.998139   \n",
       "\n",
       "   tBodyAcc-std-Y  tBodyAcc-std-Z  tBodyAcc-mad-X  tBodyAcc-mad-Y  \\\n",
       "0       -0.983111       -0.913526       -0.995112       -0.983185   \n",
       "1       -0.975300       -0.960322       -0.998807       -0.974914   \n",
       "2       -0.967187       -0.978944       -0.996520       -0.963668   \n",
       "3       -0.983403       -0.990675       -0.997099       -0.982750   \n",
       "4       -0.980817       -0.990482       -0.998321       -0.979672   \n",
       "\n",
       "   tBodyAcc-mad-Z  tBodyAcc-max-X         ...           \\\n",
       "0       -0.923527       -0.934724         ...            \n",
       "1       -0.957686       -0.943068         ...            \n",
       "2       -0.977469       -0.938692         ...            \n",
       "3       -0.989302       -0.938692         ...            \n",
       "4       -0.990441       -0.942469         ...            \n",
       "\n",
       "   fBodyBodyGyroJerkMag-meanFreq  fBodyBodyGyroJerkMag-skewness  \\\n",
       "0                      -0.074323                      -0.298676   \n",
       "1                       0.158075                      -0.595051   \n",
       "2                       0.414503                      -0.390748   \n",
       "3                       0.404573                      -0.117290   \n",
       "4                       0.087753                      -0.351471   \n",
       "\n",
       "   fBodyBodyGyroJerkMag-kurtosis  angle(tBodyAccMeangravity)  \\\n",
       "0                      -0.710304                   -0.112754   \n",
       "1                      -0.861499                    0.053477   \n",
       "2                      -0.760104                   -0.118559   \n",
       "3                      -0.482845                   -0.036788   \n",
       "4                      -0.699205                    0.123320   \n",
       "\n",
       "   angle(tBodyAccJerkMean)gravityMean)  angle(tBodyGyroMeangravityMean)  \\\n",
       "0                             0.030400                        -0.464761   \n",
       "1                            -0.007435                        -0.732626   \n",
       "2                             0.177899                         0.100699   \n",
       "3                            -0.012892                         0.640011   \n",
       "4                             0.122542                         0.693578   \n",
       "\n",
       "   angle(tBodyGyroJerkMeangravityMean)  angle(XgravityMean)  \\\n",
       "0                            -0.018446            -0.841247   \n",
       "1                             0.703511            -0.844788   \n",
       "2                             0.808529            -0.848933   \n",
       "3                            -0.485366            -0.848649   \n",
       "4                            -0.615971            -0.847865   \n",
       "\n",
       "   angle(YgravityMean)  angle(ZgravityMean)  \n",
       "0             0.179941            -0.058627  \n",
       "1             0.180289            -0.054317  \n",
       "2             0.180637            -0.049118  \n",
       "3             0.181935            -0.047663  \n",
       "4             0.185151            -0.043892  \n",
       "\n",
       "[5 rows x 561 columns]"
      ]
     },
     "execution_count": 93,
     "metadata": {},
     "output_type": "execute_result"
    }
   ],
   "source": [
    "train_df.head()"
   ]
  },
  {
   "cell_type": "code",
   "execution_count": 94,
   "metadata": {},
   "outputs": [],
   "source": [
    "train = train_df.values"
   ]
  },
  {
   "cell_type": "markdown",
   "metadata": {},
   "source": [
    "### Transform output vector into one-hot shape -> (6,)"
   ]
  },
  {
   "cell_type": "code",
   "execution_count": 157,
   "metadata": {},
   "outputs": [],
   "source": [
    "def one_hot(x):\n",
    "    a = np.zeros(shape=(6,))\n",
    "    a[x-1] = 1.0\n",
    "    \n",
    "    return a"
   ]
  },
  {
   "cell_type": "code",
   "execution_count": 158,
   "metadata": {},
   "outputs": [],
   "source": [
    "y_train = np.array([ one_hot(x) for x in train_tags.values ])"
   ]
  },
  {
   "cell_type": "code",
   "execution_count": 159,
   "metadata": {},
   "outputs": [
    {
     "data": {
      "text/plain": [
       "array([[ 0.,  0.,  0.,  0.,  1.,  0.],\n",
       "       [ 0.,  0.,  0.,  0.,  1.,  0.],\n",
       "       [ 0.,  0.,  0.,  0.,  1.,  0.],\n",
       "       [ 0.,  0.,  0.,  0.,  1.,  0.],\n",
       "       [ 0.,  0.,  0.,  0.,  1.,  0.],\n",
       "       [ 0.,  0.,  0.,  0.,  1.,  0.],\n",
       "       [ 0.,  0.,  0.,  0.,  1.,  0.],\n",
       "       [ 0.,  0.,  0.,  0.,  1.,  0.],\n",
       "       [ 0.,  0.,  0.,  0.,  1.,  0.],\n",
       "       [ 0.,  0.,  0.,  0.,  1.,  0.]])"
      ]
     },
     "execution_count": 159,
     "metadata": {},
     "output_type": "execute_result"
    }
   ],
   "source": [
    "y_train[0:10]"
   ]
  },
  {
   "cell_type": "markdown",
   "metadata": {},
   "source": [
    "## Test data"
   ]
  },
  {
   "cell_type": "markdown",
   "metadata": {},
   "source": [
    "### Participant IDs"
   ]
  },
  {
   "cell_type": "code",
   "execution_count": 73,
   "metadata": {},
   "outputs": [],
   "source": [
    "with open('uci_har_dataset/test/subject_test.txt', 'r') as f:\n",
    "    test_id = pd.Series([int(x.strip()) for x in f.readlines()])"
   ]
  },
  {
   "cell_type": "code",
   "execution_count": 74,
   "metadata": {},
   "outputs": [
    {
     "data": {
      "text/plain": [
       "24    381\n",
       "18    364\n",
       "20    354\n",
       "13    327\n",
       "12    320\n",
       "4     317\n",
       "2     302\n",
       "10    294\n",
       "9     288\n",
       "dtype: int64"
      ]
     },
     "execution_count": 74,
     "metadata": {},
     "output_type": "execute_result"
    }
   ],
   "source": [
    "test_id.value_counts()"
   ]
  },
  {
   "cell_type": "markdown",
   "metadata": {},
   "source": [
    "### Activity labels"
   ]
  },
  {
   "cell_type": "code",
   "execution_count": 75,
   "metadata": {},
   "outputs": [],
   "source": [
    "with open('./uci_har_dataset/test/y_test.txt', 'r') as f:\n",
    "    test_tags = pd.Series([ int(x.strip()) for x in f.readlines() ])"
   ]
  },
  {
   "cell_type": "code",
   "execution_count": 76,
   "metadata": {},
   "outputs": [
    {
     "data": {
      "text/plain": [
       "0    5\n",
       "1    5\n",
       "2    5\n",
       "3    5\n",
       "4    5\n",
       "5    5\n",
       "6    5\n",
       "7    5\n",
       "8    5\n",
       "9    5\n",
       "dtype: int64"
      ]
     },
     "execution_count": 76,
     "metadata": {},
     "output_type": "execute_result"
    }
   ],
   "source": [
    "test_tags[0:10]"
   ]
  },
  {
   "cell_type": "markdown",
   "metadata": {},
   "source": [
    "### Feature vector for test set"
   ]
  },
  {
   "cell_type": "code",
   "execution_count": 95,
   "metadata": {},
   "outputs": [],
   "source": [
    "test_df = pd.read_csv('./uci_har_dataset/test/X_test_a.txt', sep=',', header=None).drop(0, axis=1)"
   ]
  },
  {
   "cell_type": "code",
   "execution_count": 96,
   "metadata": {},
   "outputs": [
    {
     "data": {
      "text/plain": [
       "(2947, 561)"
      ]
     },
     "execution_count": 96,
     "metadata": {},
     "output_type": "execute_result"
    }
   ],
   "source": [
    "test_df.shape"
   ]
  },
  {
   "cell_type": "code",
   "execution_count": 97,
   "metadata": {},
   "outputs": [],
   "source": [
    "test_df.columns = features"
   ]
  },
  {
   "cell_type": "code",
   "execution_count": 98,
   "metadata": {},
   "outputs": [
    {
     "data": {
      "text/html": [
       "<div>\n",
       "<style>\n",
       "    .dataframe thead tr:only-child th {\n",
       "        text-align: right;\n",
       "    }\n",
       "\n",
       "    .dataframe thead th {\n",
       "        text-align: left;\n",
       "    }\n",
       "\n",
       "    .dataframe tbody tr th {\n",
       "        vertical-align: top;\n",
       "    }\n",
       "</style>\n",
       "<table border=\"1\" class=\"dataframe\">\n",
       "  <thead>\n",
       "    <tr style=\"text-align: right;\">\n",
       "      <th></th>\n",
       "      <th>tBodyAcc-mean-X</th>\n",
       "      <th>tBodyAcc-mean-Y</th>\n",
       "      <th>tBodyAcc-mean-Z</th>\n",
       "      <th>tBodyAcc-std-X</th>\n",
       "      <th>tBodyAcc-std-Y</th>\n",
       "      <th>tBodyAcc-std-Z</th>\n",
       "      <th>tBodyAcc-mad-X</th>\n",
       "      <th>tBodyAcc-mad-Y</th>\n",
       "      <th>tBodyAcc-mad-Z</th>\n",
       "      <th>tBodyAcc-max-X</th>\n",
       "      <th>...</th>\n",
       "      <th>fBodyBodyGyroJerkMag-meanFreq</th>\n",
       "      <th>fBodyBodyGyroJerkMag-skewness</th>\n",
       "      <th>fBodyBodyGyroJerkMag-kurtosis</th>\n",
       "      <th>angle(tBodyAccMeangravity)</th>\n",
       "      <th>angle(tBodyAccJerkMean)gravityMean)</th>\n",
       "      <th>angle(tBodyGyroMeangravityMean)</th>\n",
       "      <th>angle(tBodyGyroJerkMeangravityMean)</th>\n",
       "      <th>angle(XgravityMean)</th>\n",
       "      <th>angle(YgravityMean)</th>\n",
       "      <th>angle(ZgravityMean)</th>\n",
       "    </tr>\n",
       "  </thead>\n",
       "  <tbody>\n",
       "    <tr>\n",
       "      <th>0</th>\n",
       "      <td>0.257178</td>\n",
       "      <td>-0.023285</td>\n",
       "      <td>-0.014654</td>\n",
       "      <td>-0.938404</td>\n",
       "      <td>-0.920091</td>\n",
       "      <td>-0.667683</td>\n",
       "      <td>-0.952501</td>\n",
       "      <td>-0.925249</td>\n",
       "      <td>-0.674302</td>\n",
       "      <td>-0.894088</td>\n",
       "      <td>...</td>\n",
       "      <td>0.071645</td>\n",
       "      <td>-0.330370</td>\n",
       "      <td>-0.705974</td>\n",
       "      <td>0.006462</td>\n",
       "      <td>0.162920</td>\n",
       "      <td>-0.825886</td>\n",
       "      <td>0.271151</td>\n",
       "      <td>-0.720009</td>\n",
       "      <td>0.276801</td>\n",
       "      <td>-0.057978</td>\n",
       "    </tr>\n",
       "    <tr>\n",
       "      <th>1</th>\n",
       "      <td>0.286027</td>\n",
       "      <td>-0.013163</td>\n",
       "      <td>-0.119083</td>\n",
       "      <td>-0.975415</td>\n",
       "      <td>-0.967458</td>\n",
       "      <td>-0.944958</td>\n",
       "      <td>-0.986799</td>\n",
       "      <td>-0.968401</td>\n",
       "      <td>-0.945823</td>\n",
       "      <td>-0.894088</td>\n",
       "      <td>...</td>\n",
       "      <td>-0.401189</td>\n",
       "      <td>-0.121845</td>\n",
       "      <td>-0.594944</td>\n",
       "      <td>-0.083495</td>\n",
       "      <td>0.017500</td>\n",
       "      <td>-0.434375</td>\n",
       "      <td>0.920593</td>\n",
       "      <td>-0.698091</td>\n",
       "      <td>0.281343</td>\n",
       "      <td>-0.083898</td>\n",
       "    </tr>\n",
       "    <tr>\n",
       "      <th>2</th>\n",
       "      <td>0.275485</td>\n",
       "      <td>-0.026050</td>\n",
       "      <td>-0.118152</td>\n",
       "      <td>-0.993819</td>\n",
       "      <td>-0.969926</td>\n",
       "      <td>-0.962748</td>\n",
       "      <td>-0.994403</td>\n",
       "      <td>-0.970735</td>\n",
       "      <td>-0.963483</td>\n",
       "      <td>-0.939260</td>\n",
       "      <td>...</td>\n",
       "      <td>0.062891</td>\n",
       "      <td>-0.190422</td>\n",
       "      <td>-0.640736</td>\n",
       "      <td>-0.034956</td>\n",
       "      <td>0.202302</td>\n",
       "      <td>0.064103</td>\n",
       "      <td>0.145068</td>\n",
       "      <td>-0.702771</td>\n",
       "      <td>0.280083</td>\n",
       "      <td>-0.079346</td>\n",
       "    </tr>\n",
       "    <tr>\n",
       "      <th>3</th>\n",
       "      <td>0.270298</td>\n",
       "      <td>-0.032614</td>\n",
       "      <td>-0.117520</td>\n",
       "      <td>-0.994743</td>\n",
       "      <td>-0.973268</td>\n",
       "      <td>-0.967091</td>\n",
       "      <td>-0.995274</td>\n",
       "      <td>-0.974471</td>\n",
       "      <td>-0.968897</td>\n",
       "      <td>-0.938610</td>\n",
       "      <td>...</td>\n",
       "      <td>0.116695</td>\n",
       "      <td>-0.344418</td>\n",
       "      <td>-0.736124</td>\n",
       "      <td>-0.017067</td>\n",
       "      <td>0.154438</td>\n",
       "      <td>0.340134</td>\n",
       "      <td>0.296407</td>\n",
       "      <td>-0.698954</td>\n",
       "      <td>0.284114</td>\n",
       "      <td>-0.077108</td>\n",
       "    </tr>\n",
       "    <tr>\n",
       "      <th>4</th>\n",
       "      <td>0.274833</td>\n",
       "      <td>-0.027848</td>\n",
       "      <td>-0.129527</td>\n",
       "      <td>-0.993852</td>\n",
       "      <td>-0.967445</td>\n",
       "      <td>-0.978295</td>\n",
       "      <td>-0.994111</td>\n",
       "      <td>-0.965953</td>\n",
       "      <td>-0.977346</td>\n",
       "      <td>-0.938610</td>\n",
       "      <td>...</td>\n",
       "      <td>-0.121711</td>\n",
       "      <td>-0.534685</td>\n",
       "      <td>-0.846595</td>\n",
       "      <td>-0.002223</td>\n",
       "      <td>-0.040046</td>\n",
       "      <td>0.736715</td>\n",
       "      <td>-0.118545</td>\n",
       "      <td>-0.692245</td>\n",
       "      <td>0.290722</td>\n",
       "      <td>-0.073857</td>\n",
       "    </tr>\n",
       "  </tbody>\n",
       "</table>\n",
       "<p>5 rows × 561 columns</p>\n",
       "</div>"
      ],
      "text/plain": [
       "   tBodyAcc-mean-X  tBodyAcc-mean-Y  tBodyAcc-mean-Z  tBodyAcc-std-X  \\\n",
       "0         0.257178        -0.023285        -0.014654       -0.938404   \n",
       "1         0.286027        -0.013163        -0.119083       -0.975415   \n",
       "2         0.275485        -0.026050        -0.118152       -0.993819   \n",
       "3         0.270298        -0.032614        -0.117520       -0.994743   \n",
       "4         0.274833        -0.027848        -0.129527       -0.993852   \n",
       "\n",
       "   tBodyAcc-std-Y  tBodyAcc-std-Z  tBodyAcc-mad-X  tBodyAcc-mad-Y  \\\n",
       "0       -0.920091       -0.667683       -0.952501       -0.925249   \n",
       "1       -0.967458       -0.944958       -0.986799       -0.968401   \n",
       "2       -0.969926       -0.962748       -0.994403       -0.970735   \n",
       "3       -0.973268       -0.967091       -0.995274       -0.974471   \n",
       "4       -0.967445       -0.978295       -0.994111       -0.965953   \n",
       "\n",
       "   tBodyAcc-mad-Z  tBodyAcc-max-X         ...           \\\n",
       "0       -0.674302       -0.894088         ...            \n",
       "1       -0.945823       -0.894088         ...            \n",
       "2       -0.963483       -0.939260         ...            \n",
       "3       -0.968897       -0.938610         ...            \n",
       "4       -0.977346       -0.938610         ...            \n",
       "\n",
       "   fBodyBodyGyroJerkMag-meanFreq  fBodyBodyGyroJerkMag-skewness  \\\n",
       "0                       0.071645                      -0.330370   \n",
       "1                      -0.401189                      -0.121845   \n",
       "2                       0.062891                      -0.190422   \n",
       "3                       0.116695                      -0.344418   \n",
       "4                      -0.121711                      -0.534685   \n",
       "\n",
       "   fBodyBodyGyroJerkMag-kurtosis  angle(tBodyAccMeangravity)  \\\n",
       "0                      -0.705974                    0.006462   \n",
       "1                      -0.594944                   -0.083495   \n",
       "2                      -0.640736                   -0.034956   \n",
       "3                      -0.736124                   -0.017067   \n",
       "4                      -0.846595                   -0.002223   \n",
       "\n",
       "   angle(tBodyAccJerkMean)gravityMean)  angle(tBodyGyroMeangravityMean)  \\\n",
       "0                             0.162920                        -0.825886   \n",
       "1                             0.017500                        -0.434375   \n",
       "2                             0.202302                         0.064103   \n",
       "3                             0.154438                         0.340134   \n",
       "4                            -0.040046                         0.736715   \n",
       "\n",
       "   angle(tBodyGyroJerkMeangravityMean)  angle(XgravityMean)  \\\n",
       "0                             0.271151            -0.720009   \n",
       "1                             0.920593            -0.698091   \n",
       "2                             0.145068            -0.702771   \n",
       "3                             0.296407            -0.698954   \n",
       "4                            -0.118545            -0.692245   \n",
       "\n",
       "   angle(YgravityMean)  angle(ZgravityMean)  \n",
       "0             0.276801            -0.057978  \n",
       "1             0.281343            -0.083898  \n",
       "2             0.280083            -0.079346  \n",
       "3             0.284114            -0.077108  \n",
       "4             0.290722            -0.073857  \n",
       "\n",
       "[5 rows x 561 columns]"
      ]
     },
     "execution_count": 98,
     "metadata": {},
     "output_type": "execute_result"
    }
   ],
   "source": [
    "test_df.head()"
   ]
  },
  {
   "cell_type": "code",
   "execution_count": 99,
   "metadata": {},
   "outputs": [],
   "source": [
    "test = test_df.values"
   ]
  },
  {
   "cell_type": "markdown",
   "metadata": {},
   "source": [
    "### Transform output to one-hot"
   ]
  },
  {
   "cell_type": "code",
   "execution_count": 160,
   "metadata": {},
   "outputs": [],
   "source": [
    "y_test = np.array([ one_hot(x) for x in test_tags.values ])"
   ]
  },
  {
   "cell_type": "markdown",
   "metadata": {},
   "source": [
    "# Classification Model (2-layer, 50-20-6)"
   ]
  },
  {
   "cell_type": "code",
   "execution_count": 161,
   "metadata": {},
   "outputs": [
    {
     "data": {
      "text/plain": [
       "(7352, 561)"
      ]
     },
     "execution_count": 161,
     "metadata": {},
     "output_type": "execute_result"
    }
   ],
   "source": [
    "train.shape"
   ]
  },
  {
   "cell_type": "code",
   "execution_count": 162,
   "metadata": {},
   "outputs": [
    {
     "data": {
      "text/plain": [
       "(7352, 6)"
      ]
     },
     "execution_count": 162,
     "metadata": {},
     "output_type": "execute_result"
    }
   ],
   "source": [
    "y_train.shape"
   ]
  },
  {
   "cell_type": "code",
   "execution_count": 192,
   "metadata": {},
   "outputs": [
    {
     "name": "stderr",
     "output_type": "stream",
     "text": [
      "INFO (theano.gof.compilelock): Refreshing lock /Users/economy/.theano/compiledir_Darwin-17.3.0-x86_64-i386-64bit-i386-3.6.2-64/lock_dir/lock\n",
      "INFO:theano.gof.compilelock:Refreshing lock /Users/economy/.theano/compiledir_Darwin-17.3.0-x86_64-i386-64bit-i386-3.6.2-64/lock_dir/lock\n"
     ]
    }
   ],
   "source": [
    "model = M.Sequential()\n",
    "model.add(L.Dense(50, input_dim=561, activation='relu'))\n",
    "model.add(L.Dense(20, activation='relu'))\n",
    "model.add(L.Dense(6, activation='sigmoid'))\n",
    "model.compile(loss='binary_crossentropy', optimizer='adam', metrics=['accuracy'])"
   ]
  },
  {
   "cell_type": "code",
   "execution_count": 193,
   "metadata": {
    "scrolled": true
   },
   "outputs": [
    {
     "name": "stdout",
     "output_type": "stream",
     "text": [
      "Epoch 1/50\n",
      "7352/7352 [==============================] - 0s - loss: 0.1747 - acc: 0.9260     \n",
      "Epoch 2/50\n",
      "7352/7352 [==============================] - 0s - loss: 0.0655 - acc: 0.9756     \n",
      "Epoch 3/50\n",
      "7352/7352 [==============================] - 0s - loss: 0.0440 - acc: 0.9837     \n",
      "Epoch 4/50\n",
      "7352/7352 [==============================] - 0s - loss: 0.0353 - acc: 0.9864     \n",
      "Epoch 5/50\n",
      "7352/7352 [==============================] - 0s - loss: 0.0301 - acc: 0.9884     \n",
      "Epoch 6/50\n",
      "7352/7352 [==============================] - 0s - loss: 0.0235 - acc: 0.9908     \n",
      "Epoch 7/50\n",
      "7352/7352 [==============================] - 0s - loss: 0.0222 - acc: 0.9920     \n",
      "Epoch 8/50\n",
      "7352/7352 [==============================] - 0s - loss: 0.0221 - acc: 0.9912     \n",
      "Epoch 9/50\n",
      "7352/7352 [==============================] - 0s - loss: 0.0186 - acc: 0.9927     \n",
      "Epoch 10/50\n",
      "7352/7352 [==============================] - 0s - loss: 0.0196 - acc: 0.9921     \n",
      "Epoch 11/50\n",
      "7352/7352 [==============================] - 0s - loss: 0.0182 - acc: 0.9929     \n",
      "Epoch 12/50\n",
      "7352/7352 [==============================] - 0s - loss: 0.0174 - acc: 0.9931     \n",
      "Epoch 13/50\n",
      "7352/7352 [==============================] - 0s - loss: 0.0181 - acc: 0.9932     \n",
      "Epoch 14/50\n",
      "7352/7352 [==============================] - 0s - loss: 0.0205 - acc: 0.9925     \n",
      "Epoch 15/50\n",
      "7352/7352 [==============================] - 0s - loss: 0.0175 - acc: 0.9935     \n",
      "Epoch 16/50\n",
      "7352/7352 [==============================] - 0s - loss: 0.0150 - acc: 0.9943     \n",
      "Epoch 17/50\n",
      "7352/7352 [==============================] - 0s - loss: 0.0159 - acc: 0.9942     \n",
      "Epoch 18/50\n",
      "7352/7352 [==============================] - 0s - loss: 0.0147 - acc: 0.9944     \n",
      "Epoch 19/50\n",
      "7352/7352 [==============================] - 0s - loss: 0.0185 - acc: 0.9928     \n",
      "Epoch 20/50\n",
      "7352/7352 [==============================] - 0s - loss: 0.0159 - acc: 0.9939     \n",
      "Epoch 21/50\n",
      "7352/7352 [==============================] - 0s - loss: 0.0144 - acc: 0.9946     \n",
      "Epoch 22/50\n",
      "7352/7352 [==============================] - 0s - loss: 0.0152 - acc: 0.9942     \n",
      "Epoch 23/50\n",
      "7352/7352 [==============================] - 0s - loss: 0.0151 - acc: 0.9934     \n",
      "Epoch 24/50\n",
      "7352/7352 [==============================] - 0s - loss: 0.0137 - acc: 0.9946     \n",
      "Epoch 25/50\n",
      "7352/7352 [==============================] - 0s - loss: 0.0146 - acc: 0.9945     \n",
      "Epoch 26/50\n",
      "7352/7352 [==============================] - 0s - loss: 0.0151 - acc: 0.9944     \n",
      "Epoch 27/50\n",
      "7352/7352 [==============================] - 0s - loss: 0.0124 - acc: 0.9950     \n",
      "Epoch 28/50\n",
      "7352/7352 [==============================] - 0s - loss: 0.0125 - acc: 0.9952     \n",
      "Epoch 29/50\n",
      "7352/7352 [==============================] - 0s - loss: 0.0136 - acc: 0.9943     \n",
      "Epoch 30/50\n",
      "7352/7352 [==============================] - 0s - loss: 0.0163 - acc: 0.9936     \n",
      "Epoch 31/50\n",
      "7352/7352 [==============================] - 0s - loss: 0.0125 - acc: 0.9959     \n",
      "Epoch 32/50\n",
      "7352/7352 [==============================] - 0s - loss: 0.0124 - acc: 0.9953     \n",
      "Epoch 33/50\n",
      "7352/7352 [==============================] - 0s - loss: 0.0139 - acc: 0.9947     \n",
      "Epoch 34/50\n",
      "7352/7352 [==============================] - 0s - loss: 0.0140 - acc: 0.9951     \n",
      "Epoch 35/50\n",
      "7352/7352 [==============================] - 0s - loss: 0.0115 - acc: 0.9957     \n",
      "Epoch 36/50\n",
      "7352/7352 [==============================] - 1s - loss: 0.0113 - acc: 0.9955     \n",
      "Epoch 37/50\n",
      "7352/7352 [==============================] - 0s - loss: 0.0131 - acc: 0.9947     \n",
      "Epoch 38/50\n",
      "7352/7352 [==============================] - 0s - loss: 0.0133 - acc: 0.9950     \n",
      "Epoch 39/50\n",
      "7352/7352 [==============================] - 0s - loss: 0.0112 - acc: 0.9954     \n",
      "Epoch 40/50\n",
      "7352/7352 [==============================] - 0s - loss: 0.0105 - acc: 0.9959     \n",
      "Epoch 41/50\n",
      "7352/7352 [==============================] - 0s - loss: 0.0109 - acc: 0.9955     \n",
      "Epoch 42/50\n",
      "7352/7352 [==============================] - 0s - loss: 0.0105 - acc: 0.9957     \n",
      "Epoch 43/50\n",
      "7352/7352 [==============================] - 0s - loss: 0.0102 - acc: 0.9960     \n",
      "Epoch 44/50\n",
      "7352/7352 [==============================] - 0s - loss: 0.0103 - acc: 0.9964     \n",
      "Epoch 45/50\n",
      "7352/7352 [==============================] - 0s - loss: 0.0097 - acc: 0.9968     \n",
      "Epoch 46/50\n",
      "7352/7352 [==============================] - 0s - loss: 0.0095 - acc: 0.9961     \n",
      "Epoch 47/50\n",
      "7352/7352 [==============================] - 0s - loss: 0.0124 - acc: 0.9953     \n",
      "Epoch 48/50\n",
      "7352/7352 [==============================] - 0s - loss: 0.0107 - acc: 0.9959     \n",
      "Epoch 49/50\n",
      "7352/7352 [==============================] - 0s - loss: 0.0103 - acc: 0.9957     \n",
      "Epoch 50/50\n",
      "7352/7352 [==============================] - 0s - loss: 0.0090 - acc: 0.9966     \n"
     ]
    },
    {
     "data": {
      "text/plain": [
       "<keras.callbacks.History at 0x12c1d5e10>"
      ]
     },
     "execution_count": 193,
     "metadata": {},
     "output_type": "execute_result"
    }
   ],
   "source": [
    "model.fit(x=train, y=y_train, batch_size=20, epochs=50)"
   ]
  },
  {
   "cell_type": "markdown",
   "metadata": {},
   "source": [
    "# Evaluation"
   ]
  },
  {
   "cell_type": "code",
   "execution_count": 194,
   "metadata": {},
   "outputs": [],
   "source": [
    "y_hat = pd.DataFrame(model.predict(test), columns=[1,2,3,4,5,6])"
   ]
  },
  {
   "cell_type": "code",
   "execution_count": 202,
   "metadata": {},
   "outputs": [
    {
     "data": {
      "text/html": [
       "<div>\n",
       "<style>\n",
       "    .dataframe thead tr:only-child th {\n",
       "        text-align: right;\n",
       "    }\n",
       "\n",
       "    .dataframe thead th {\n",
       "        text-align: left;\n",
       "    }\n",
       "\n",
       "    .dataframe tbody tr th {\n",
       "        vertical-align: top;\n",
       "    }\n",
       "</style>\n",
       "<table border=\"1\" class=\"dataframe\">\n",
       "  <thead>\n",
       "    <tr style=\"text-align: right;\">\n",
       "      <th></th>\n",
       "      <th>1</th>\n",
       "      <th>2</th>\n",
       "      <th>3</th>\n",
       "      <th>4</th>\n",
       "      <th>5</th>\n",
       "      <th>6</th>\n",
       "    </tr>\n",
       "  </thead>\n",
       "  <tbody>\n",
       "    <tr>\n",
       "      <th>2673</th>\n",
       "      <td>1</td>\n",
       "      <td>0</td>\n",
       "      <td>0</td>\n",
       "      <td>0</td>\n",
       "      <td>0</td>\n",
       "      <td>0</td>\n",
       "    </tr>\n",
       "    <tr>\n",
       "      <th>193</th>\n",
       "      <td>0</td>\n",
       "      <td>0</td>\n",
       "      <td>0</td>\n",
       "      <td>1</td>\n",
       "      <td>0</td>\n",
       "      <td>0</td>\n",
       "    </tr>\n",
       "    <tr>\n",
       "      <th>188</th>\n",
       "      <td>0</td>\n",
       "      <td>0</td>\n",
       "      <td>0</td>\n",
       "      <td>1</td>\n",
       "      <td>0</td>\n",
       "      <td>0</td>\n",
       "    </tr>\n",
       "    <tr>\n",
       "      <th>544</th>\n",
       "      <td>1</td>\n",
       "      <td>0</td>\n",
       "      <td>0</td>\n",
       "      <td>0</td>\n",
       "      <td>0</td>\n",
       "      <td>0</td>\n",
       "    </tr>\n",
       "    <tr>\n",
       "      <th>1063</th>\n",
       "      <td>0</td>\n",
       "      <td>0</td>\n",
       "      <td>0</td>\n",
       "      <td>0</td>\n",
       "      <td>1</td>\n",
       "      <td>0</td>\n",
       "    </tr>\n",
       "    <tr>\n",
       "      <th>2595</th>\n",
       "      <td>0</td>\n",
       "      <td>0</td>\n",
       "      <td>0</td>\n",
       "      <td>0</td>\n",
       "      <td>1</td>\n",
       "      <td>0</td>\n",
       "    </tr>\n",
       "    <tr>\n",
       "      <th>2315</th>\n",
       "      <td>0</td>\n",
       "      <td>0</td>\n",
       "      <td>0</td>\n",
       "      <td>0</td>\n",
       "      <td>0</td>\n",
       "      <td>1</td>\n",
       "    </tr>\n",
       "    <tr>\n",
       "      <th>2693</th>\n",
       "      <td>1</td>\n",
       "      <td>0</td>\n",
       "      <td>0</td>\n",
       "      <td>0</td>\n",
       "      <td>0</td>\n",
       "      <td>0</td>\n",
       "    </tr>\n",
       "    <tr>\n",
       "      <th>522</th>\n",
       "      <td>0</td>\n",
       "      <td>0</td>\n",
       "      <td>0</td>\n",
       "      <td>0</td>\n",
       "      <td>0</td>\n",
       "      <td>1</td>\n",
       "    </tr>\n",
       "    <tr>\n",
       "      <th>2174</th>\n",
       "      <td>0</td>\n",
       "      <td>1</td>\n",
       "      <td>0</td>\n",
       "      <td>0</td>\n",
       "      <td>0</td>\n",
       "      <td>0</td>\n",
       "    </tr>\n",
       "  </tbody>\n",
       "</table>\n",
       "</div>"
      ],
      "text/plain": [
       "      1  2  3  4  5  6\n",
       "2673  1  0  0  0  0  0\n",
       "193   0  0  0  1  0  0\n",
       "188   0  0  0  1  0  0\n",
       "544   1  0  0  0  0  0\n",
       "1063  0  0  0  0  1  0\n",
       "2595  0  0  0  0  1  0\n",
       "2315  0  0  0  0  0  1\n",
       "2693  1  0  0  0  0  0\n",
       "522   0  0  0  0  0  1\n",
       "2174  0  1  0  0  0  0"
      ]
     },
     "execution_count": 202,
     "metadata": {},
     "output_type": "execute_result"
    }
   ],
   "source": [
    "## Sample some, turn ugly floats into 0,1\n",
    "y_hat.sample(10, random_state=12345).applymap(lambda x: round(x))"
   ]
  },
  {
   "cell_type": "code",
   "execution_count": 204,
   "metadata": {},
   "outputs": [
    {
     "data": {
      "text/html": [
       "<div>\n",
       "<style>\n",
       "    .dataframe thead tr:only-child th {\n",
       "        text-align: right;\n",
       "    }\n",
       "\n",
       "    .dataframe thead th {\n",
       "        text-align: left;\n",
       "    }\n",
       "\n",
       "    .dataframe tbody tr th {\n",
       "        vertical-align: top;\n",
       "    }\n",
       "</style>\n",
       "<table border=\"1\" class=\"dataframe\">\n",
       "  <thead>\n",
       "    <tr style=\"text-align: right;\">\n",
       "      <th></th>\n",
       "      <th>1</th>\n",
       "      <th>2</th>\n",
       "      <th>3</th>\n",
       "      <th>4</th>\n",
       "      <th>5</th>\n",
       "      <th>6</th>\n",
       "    </tr>\n",
       "  </thead>\n",
       "  <tbody>\n",
       "    <tr>\n",
       "      <th>2673</th>\n",
       "      <td>1</td>\n",
       "      <td>0</td>\n",
       "      <td>0</td>\n",
       "      <td>0</td>\n",
       "      <td>0</td>\n",
       "      <td>0</td>\n",
       "    </tr>\n",
       "    <tr>\n",
       "      <th>193</th>\n",
       "      <td>0</td>\n",
       "      <td>0</td>\n",
       "      <td>0</td>\n",
       "      <td>1</td>\n",
       "      <td>0</td>\n",
       "      <td>0</td>\n",
       "    </tr>\n",
       "    <tr>\n",
       "      <th>188</th>\n",
       "      <td>0</td>\n",
       "      <td>0</td>\n",
       "      <td>0</td>\n",
       "      <td>1</td>\n",
       "      <td>0</td>\n",
       "      <td>0</td>\n",
       "    </tr>\n",
       "    <tr>\n",
       "      <th>544</th>\n",
       "      <td>1</td>\n",
       "      <td>0</td>\n",
       "      <td>0</td>\n",
       "      <td>0</td>\n",
       "      <td>0</td>\n",
       "      <td>0</td>\n",
       "    </tr>\n",
       "    <tr>\n",
       "      <th>1063</th>\n",
       "      <td>0</td>\n",
       "      <td>0</td>\n",
       "      <td>0</td>\n",
       "      <td>0</td>\n",
       "      <td>1</td>\n",
       "      <td>0</td>\n",
       "    </tr>\n",
       "    <tr>\n",
       "      <th>2595</th>\n",
       "      <td>0</td>\n",
       "      <td>0</td>\n",
       "      <td>0</td>\n",
       "      <td>0</td>\n",
       "      <td>1</td>\n",
       "      <td>0</td>\n",
       "    </tr>\n",
       "    <tr>\n",
       "      <th>2315</th>\n",
       "      <td>0</td>\n",
       "      <td>0</td>\n",
       "      <td>0</td>\n",
       "      <td>0</td>\n",
       "      <td>0</td>\n",
       "      <td>1</td>\n",
       "    </tr>\n",
       "    <tr>\n",
       "      <th>2693</th>\n",
       "      <td>1</td>\n",
       "      <td>0</td>\n",
       "      <td>0</td>\n",
       "      <td>0</td>\n",
       "      <td>0</td>\n",
       "      <td>0</td>\n",
       "    </tr>\n",
       "    <tr>\n",
       "      <th>522</th>\n",
       "      <td>0</td>\n",
       "      <td>0</td>\n",
       "      <td>0</td>\n",
       "      <td>0</td>\n",
       "      <td>0</td>\n",
       "      <td>1</td>\n",
       "    </tr>\n",
       "    <tr>\n",
       "      <th>2174</th>\n",
       "      <td>0</td>\n",
       "      <td>1</td>\n",
       "      <td>0</td>\n",
       "      <td>0</td>\n",
       "      <td>0</td>\n",
       "      <td>0</td>\n",
       "    </tr>\n",
       "  </tbody>\n",
       "</table>\n",
       "</div>"
      ],
      "text/plain": [
       "      1  2  3  4  5  6\n",
       "2673  1  0  0  0  0  0\n",
       "193   0  0  0  1  0  0\n",
       "188   0  0  0  1  0  0\n",
       "544   1  0  0  0  0  0\n",
       "1063  0  0  0  0  1  0\n",
       "2595  0  0  0  0  1  0\n",
       "2315  0  0  0  0  0  1\n",
       "2693  1  0  0  0  0  0\n",
       "522   0  0  0  0  0  1\n",
       "2174  0  1  0  0  0  0"
      ]
     },
     "execution_count": 204,
     "metadata": {},
     "output_type": "execute_result"
    }
   ],
   "source": [
    "## real values\n",
    "pd.DataFrame(y_test, columns=[1,2,3,4,5,6]).sample(10, random_state=12345).applymap(lambda x: int(x))"
   ]
  },
  {
   "cell_type": "code",
   "execution_count": 197,
   "metadata": {},
   "outputs": [
    {
     "name": "stdout",
     "output_type": "stream",
     "text": [
      "  32/2947 [..............................] - ETA: 0s\n",
      "\n",
      "Binary Crossentropy Loss: 6.74%, Accuracy: 98.20%\n"
     ]
    }
   ],
   "source": [
    "scores = model.evaluate(test, y_test)\n",
    "print(\"\\n\\nBinary Crossentropy Loss: {:.2%}, Accuracy: {:.2%}\".format(scores[0], scores[1]))"
   ]
  },
  {
   "cell_type": "code",
   "execution_count": null,
   "metadata": {},
   "outputs": [],
   "source": []
  }
 ],
 "metadata": {
  "kernelspec": {
   "display_name": "Python 3",
   "language": "python",
   "name": "python3"
  },
  "language_info": {
   "codemirror_mode": {
    "name": "ipython",
    "version": 3
   },
   "file_extension": ".py",
   "mimetype": "text/x-python",
   "name": "python",
   "nbconvert_exporter": "python",
   "pygments_lexer": "ipython3",
   "version": "3.6.2"
  }
 },
 "nbformat": 4,
 "nbformat_minor": 2
}
