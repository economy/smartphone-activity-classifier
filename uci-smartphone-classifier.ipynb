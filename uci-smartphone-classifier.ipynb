{
 "cells": [
  {
   "cell_type": "markdown",
   "metadata": {},
   "source": [
    "# Analysis of UCI ML Human Activity Recognition Using Smartphones Dataset\n",
    "_economy_, 18 Jan 2018\n",
    "\n",
    "Dataset description found here:\n",
    "http://archive.ics.uci.edu/ml/machine-learning-databases/00240/UCI%20HAR%20Dataset.names"
   ]
  },
  {
   "cell_type": "code",
   "execution_count": 3,
   "metadata": {},
   "outputs": [],
   "source": [
    "import pandas as pd\n",
    "import numpy as np\n",
    "\n",
    "import keras"
   ]
  },
  {
   "cell_type": "markdown",
   "metadata": {},
   "source": [
    "# Import datasets"
   ]
  },
  {
   "cell_type": "markdown",
   "metadata": {},
   "source": [
    "### Feature List"
   ]
  },
  {
   "cell_type": "code",
   "execution_count": 56,
   "metadata": {},
   "outputs": [],
   "source": [
    "with open('uci_har_dataset/features.txt', 'r') as f:\n",
    "    features = [ \n",
    "        x\n",
    "        .strip()\n",
    "        .replace('()', '')\n",
    "        .replace(',', '')\n",
    "        .split(' ')[-1]\n",
    "        for x in f.readlines() \n",
    "    ]"
   ]
  },
  {
   "cell_type": "code",
   "execution_count": 57,
   "metadata": {},
   "outputs": [
    {
     "data": {
      "text/plain": [
       "['tBodyAcc-mean-X',\n",
       " 'tBodyAcc-mean-Y',\n",
       " 'tBodyAcc-mean-Z',\n",
       " 'tBodyAcc-std-X',\n",
       " 'tBodyAcc-std-Y',\n",
       " 'tBodyAcc-std-Z',\n",
       " 'tBodyAcc-mad-X',\n",
       " 'tBodyAcc-mad-Y',\n",
       " 'tBodyAcc-mad-Z',\n",
       " 'tBodyAcc-max-X']"
      ]
     },
     "execution_count": 57,
     "metadata": {},
     "output_type": "execute_result"
    }
   ],
   "source": [
    "features[0:10]"
   ]
  },
  {
   "cell_type": "code",
   "execution_count": 36,
   "metadata": {},
   "outputs": [
    {
     "data": {
      "text/plain": [
       "561"
      ]
     },
     "execution_count": 36,
     "metadata": {},
     "output_type": "execute_result"
    }
   ],
   "source": [
    "len(features)"
   ]
  },
  {
   "cell_type": "markdown",
   "metadata": {},
   "source": [
    "### IDs of participants"
   ]
  },
  {
   "cell_type": "code",
   "execution_count": 30,
   "metadata": {},
   "outputs": [],
   "source": [
    "with open('uci_har_dataset/train/subject_train.txt', 'r') as f:\n",
    "    train_id = pd.Series([int(x.strip()) for x in f.readlines()])"
   ]
  },
  {
   "cell_type": "code",
   "execution_count": 32,
   "metadata": {},
   "outputs": [
    {
     "data": {
      "text/plain": [
       "25    409\n",
       "21    408\n",
       "26    392\n",
       "30    383\n",
       "28    382\n",
       "27    376\n",
       "23    372\n",
       "17    368\n",
       "16    366\n",
       "19    360\n",
       "1     347\n",
       "29    344\n",
       "3     341\n",
       "15    328\n",
       "6     325\n",
       "14    323\n",
       "22    321\n",
       "11    316\n",
       "7     308\n",
       "5     302\n",
       "8     281\n",
       "dtype: int64"
      ]
     },
     "execution_count": 32,
     "metadata": {},
     "output_type": "execute_result"
    }
   ],
   "source": [
    "train_id.value_counts()"
   ]
  },
  {
   "cell_type": "markdown",
   "metadata": {},
   "source": [
    "### Activity labels\n",
    "- 1 = Walking (flat)\n",
    "- 2 = Walking (up stairs)\n",
    "- 3 = Walking (down stairs)\n",
    "- 4 = Sitting\n",
    "- 5 = Standing\n",
    "- 6 = Laying"
   ]
  },
  {
   "cell_type": "code",
   "execution_count": 68,
   "metadata": {},
   "outputs": [],
   "source": [
    "with open('uci_har_dataset/train/y_train.txt', 'r') as f:\n",
    "    train_tags = pd.Series([ int(x.strip()) for x in f.readlines() ])"
   ]
  },
  {
   "cell_type": "code",
   "execution_count": 69,
   "metadata": {},
   "outputs": [
    {
     "data": {
      "text/plain": [
       "0    5\n",
       "1    5\n",
       "2    5\n",
       "3    5\n",
       "4    5\n",
       "5    5\n",
       "6    5\n",
       "7    5\n",
       "8    5\n",
       "9    5\n",
       "dtype: int64"
      ]
     },
     "execution_count": 69,
     "metadata": {},
     "output_type": "execute_result"
    }
   ],
   "source": [
    "train_tags[0:10]"
   ]
  },
  {
   "cell_type": "markdown",
   "metadata": {},
   "source": [
    "### Load feature vector, add participant IDs, activity tags and feature names\n",
    "NB: training set was altered to be comma-separated using `sed 's/ \\{1,\\}/,/g` on command line\n",
    "\n",
    "This causes the first column to be empty (due to leading space), so we drop it immediately"
   ]
  },
  {
   "cell_type": "code",
   "execution_count": 58,
   "metadata": {},
   "outputs": [],
   "source": [
    "train_df = pd.read_csv('./uci_har_dataset/train/X_train_a.txt', sep=\",\", header=None).drop(0, axis=1)"
   ]
  },
  {
   "cell_type": "code",
   "execution_count": 59,
   "metadata": {},
   "outputs": [
    {
     "data": {
      "text/plain": [
       "(7352, 561)"
      ]
     },
     "execution_count": 59,
     "metadata": {},
     "output_type": "execute_result"
    }
   ],
   "source": [
    "train_df.shape"
   ]
  },
  {
   "cell_type": "code",
   "execution_count": 60,
   "metadata": {},
   "outputs": [],
   "source": [
    "train_df.columns = features"
   ]
  },
  {
   "cell_type": "code",
   "execution_count": 71,
   "metadata": {},
   "outputs": [],
   "source": [
    "train_df['id'] = train_id\n",
    "train_df['tag'] = train_tags"
   ]
  },
  {
   "cell_type": "code",
   "execution_count": 72,
   "metadata": {},
   "outputs": [
    {
     "data": {
      "text/html": [
       "<div>\n",
       "<style>\n",
       "    .dataframe thead tr:only-child th {\n",
       "        text-align: right;\n",
       "    }\n",
       "\n",
       "    .dataframe thead th {\n",
       "        text-align: left;\n",
       "    }\n",
       "\n",
       "    .dataframe tbody tr th {\n",
       "        vertical-align: top;\n",
       "    }\n",
       "</style>\n",
       "<table border=\"1\" class=\"dataframe\">\n",
       "  <thead>\n",
       "    <tr style=\"text-align: right;\">\n",
       "      <th></th>\n",
       "      <th>tBodyAcc-mean-X</th>\n",
       "      <th>tBodyAcc-mean-Y</th>\n",
       "      <th>tBodyAcc-mean-Z</th>\n",
       "      <th>tBodyAcc-std-X</th>\n",
       "      <th>tBodyAcc-std-Y</th>\n",
       "      <th>tBodyAcc-std-Z</th>\n",
       "      <th>tBodyAcc-mad-X</th>\n",
       "      <th>tBodyAcc-mad-Y</th>\n",
       "      <th>tBodyAcc-mad-Z</th>\n",
       "      <th>tBodyAcc-max-X</th>\n",
       "      <th>...</th>\n",
       "      <th>fBodyBodyGyroJerkMag-kurtosis</th>\n",
       "      <th>angle(tBodyAccMeangravity)</th>\n",
       "      <th>angle(tBodyAccJerkMean)gravityMean)</th>\n",
       "      <th>angle(tBodyGyroMeangravityMean)</th>\n",
       "      <th>angle(tBodyGyroJerkMeangravityMean)</th>\n",
       "      <th>angle(XgravityMean)</th>\n",
       "      <th>angle(YgravityMean)</th>\n",
       "      <th>angle(ZgravityMean)</th>\n",
       "      <th>id</th>\n",
       "      <th>tag</th>\n",
       "    </tr>\n",
       "  </thead>\n",
       "  <tbody>\n",
       "    <tr>\n",
       "      <th>0</th>\n",
       "      <td>0.288585</td>\n",
       "      <td>-0.020294</td>\n",
       "      <td>-0.132905</td>\n",
       "      <td>-0.995279</td>\n",
       "      <td>-0.983111</td>\n",
       "      <td>-0.913526</td>\n",
       "      <td>-0.995112</td>\n",
       "      <td>-0.983185</td>\n",
       "      <td>-0.923527</td>\n",
       "      <td>-0.934724</td>\n",
       "      <td>...</td>\n",
       "      <td>-0.710304</td>\n",
       "      <td>-0.112754</td>\n",
       "      <td>0.030400</td>\n",
       "      <td>-0.464761</td>\n",
       "      <td>-0.018446</td>\n",
       "      <td>-0.841247</td>\n",
       "      <td>0.179941</td>\n",
       "      <td>-0.058627</td>\n",
       "      <td>1</td>\n",
       "      <td>5</td>\n",
       "    </tr>\n",
       "    <tr>\n",
       "      <th>1</th>\n",
       "      <td>0.278419</td>\n",
       "      <td>-0.016411</td>\n",
       "      <td>-0.123520</td>\n",
       "      <td>-0.998245</td>\n",
       "      <td>-0.975300</td>\n",
       "      <td>-0.960322</td>\n",
       "      <td>-0.998807</td>\n",
       "      <td>-0.974914</td>\n",
       "      <td>-0.957686</td>\n",
       "      <td>-0.943068</td>\n",
       "      <td>...</td>\n",
       "      <td>-0.861499</td>\n",
       "      <td>0.053477</td>\n",
       "      <td>-0.007435</td>\n",
       "      <td>-0.732626</td>\n",
       "      <td>0.703511</td>\n",
       "      <td>-0.844788</td>\n",
       "      <td>0.180289</td>\n",
       "      <td>-0.054317</td>\n",
       "      <td>1</td>\n",
       "      <td>5</td>\n",
       "    </tr>\n",
       "    <tr>\n",
       "      <th>2</th>\n",
       "      <td>0.279653</td>\n",
       "      <td>-0.019467</td>\n",
       "      <td>-0.113462</td>\n",
       "      <td>-0.995380</td>\n",
       "      <td>-0.967187</td>\n",
       "      <td>-0.978944</td>\n",
       "      <td>-0.996520</td>\n",
       "      <td>-0.963668</td>\n",
       "      <td>-0.977469</td>\n",
       "      <td>-0.938692</td>\n",
       "      <td>...</td>\n",
       "      <td>-0.760104</td>\n",
       "      <td>-0.118559</td>\n",
       "      <td>0.177899</td>\n",
       "      <td>0.100699</td>\n",
       "      <td>0.808529</td>\n",
       "      <td>-0.848933</td>\n",
       "      <td>0.180637</td>\n",
       "      <td>-0.049118</td>\n",
       "      <td>1</td>\n",
       "      <td>5</td>\n",
       "    </tr>\n",
       "    <tr>\n",
       "      <th>3</th>\n",
       "      <td>0.279174</td>\n",
       "      <td>-0.026201</td>\n",
       "      <td>-0.123283</td>\n",
       "      <td>-0.996091</td>\n",
       "      <td>-0.983403</td>\n",
       "      <td>-0.990675</td>\n",
       "      <td>-0.997099</td>\n",
       "      <td>-0.982750</td>\n",
       "      <td>-0.989302</td>\n",
       "      <td>-0.938692</td>\n",
       "      <td>...</td>\n",
       "      <td>-0.482845</td>\n",
       "      <td>-0.036788</td>\n",
       "      <td>-0.012892</td>\n",
       "      <td>0.640011</td>\n",
       "      <td>-0.485366</td>\n",
       "      <td>-0.848649</td>\n",
       "      <td>0.181935</td>\n",
       "      <td>-0.047663</td>\n",
       "      <td>1</td>\n",
       "      <td>5</td>\n",
       "    </tr>\n",
       "    <tr>\n",
       "      <th>4</th>\n",
       "      <td>0.276629</td>\n",
       "      <td>-0.016570</td>\n",
       "      <td>-0.115362</td>\n",
       "      <td>-0.998139</td>\n",
       "      <td>-0.980817</td>\n",
       "      <td>-0.990482</td>\n",
       "      <td>-0.998321</td>\n",
       "      <td>-0.979672</td>\n",
       "      <td>-0.990441</td>\n",
       "      <td>-0.942469</td>\n",
       "      <td>...</td>\n",
       "      <td>-0.699205</td>\n",
       "      <td>0.123320</td>\n",
       "      <td>0.122542</td>\n",
       "      <td>0.693578</td>\n",
       "      <td>-0.615971</td>\n",
       "      <td>-0.847865</td>\n",
       "      <td>0.185151</td>\n",
       "      <td>-0.043892</td>\n",
       "      <td>1</td>\n",
       "      <td>5</td>\n",
       "    </tr>\n",
       "  </tbody>\n",
       "</table>\n",
       "<p>5 rows × 563 columns</p>\n",
       "</div>"
      ],
      "text/plain": [
       "   tBodyAcc-mean-X  tBodyAcc-mean-Y  tBodyAcc-mean-Z  tBodyAcc-std-X  \\\n",
       "0         0.288585        -0.020294        -0.132905       -0.995279   \n",
       "1         0.278419        -0.016411        -0.123520       -0.998245   \n",
       "2         0.279653        -0.019467        -0.113462       -0.995380   \n",
       "3         0.279174        -0.026201        -0.123283       -0.996091   \n",
       "4         0.276629        -0.016570        -0.115362       -0.998139   \n",
       "\n",
       "   tBodyAcc-std-Y  tBodyAcc-std-Z  tBodyAcc-mad-X  tBodyAcc-mad-Y  \\\n",
       "0       -0.983111       -0.913526       -0.995112       -0.983185   \n",
       "1       -0.975300       -0.960322       -0.998807       -0.974914   \n",
       "2       -0.967187       -0.978944       -0.996520       -0.963668   \n",
       "3       -0.983403       -0.990675       -0.997099       -0.982750   \n",
       "4       -0.980817       -0.990482       -0.998321       -0.979672   \n",
       "\n",
       "   tBodyAcc-mad-Z  tBodyAcc-max-X ...   fBodyBodyGyroJerkMag-kurtosis  \\\n",
       "0       -0.923527       -0.934724 ...                       -0.710304   \n",
       "1       -0.957686       -0.943068 ...                       -0.861499   \n",
       "2       -0.977469       -0.938692 ...                       -0.760104   \n",
       "3       -0.989302       -0.938692 ...                       -0.482845   \n",
       "4       -0.990441       -0.942469 ...                       -0.699205   \n",
       "\n",
       "   angle(tBodyAccMeangravity)  angle(tBodyAccJerkMean)gravityMean)  \\\n",
       "0                   -0.112754                             0.030400   \n",
       "1                    0.053477                            -0.007435   \n",
       "2                   -0.118559                             0.177899   \n",
       "3                   -0.036788                            -0.012892   \n",
       "4                    0.123320                             0.122542   \n",
       "\n",
       "   angle(tBodyGyroMeangravityMean)  angle(tBodyGyroJerkMeangravityMean)  \\\n",
       "0                        -0.464761                            -0.018446   \n",
       "1                        -0.732626                             0.703511   \n",
       "2                         0.100699                             0.808529   \n",
       "3                         0.640011                            -0.485366   \n",
       "4                         0.693578                            -0.615971   \n",
       "\n",
       "   angle(XgravityMean)  angle(YgravityMean)  angle(ZgravityMean)  id  tag  \n",
       "0            -0.841247             0.179941            -0.058627   1    5  \n",
       "1            -0.844788             0.180289            -0.054317   1    5  \n",
       "2            -0.848933             0.180637            -0.049118   1    5  \n",
       "3            -0.848649             0.181935            -0.047663   1    5  \n",
       "4            -0.847865             0.185151            -0.043892   1    5  \n",
       "\n",
       "[5 rows x 563 columns]"
      ]
     },
     "execution_count": 72,
     "metadata": {},
     "output_type": "execute_result"
    }
   ],
   "source": [
    "train_df.head()"
   ]
  },
  {
   "cell_type": "markdown",
   "metadata": {},
   "source": [
    "## Test data"
   ]
  },
  {
   "cell_type": "markdown",
   "metadata": {},
   "source": [
    "### Participant IDs"
   ]
  },
  {
   "cell_type": "code",
   "execution_count": 73,
   "metadata": {},
   "outputs": [],
   "source": [
    "with open('uci_har_dataset/test/subject_test.txt', 'r') as f:\n",
    "    test_id = pd.Series([int(x.strip()) for x in f.readlines()])"
   ]
  },
  {
   "cell_type": "code",
   "execution_count": 74,
   "metadata": {},
   "outputs": [
    {
     "data": {
      "text/plain": [
       "24    381\n",
       "18    364\n",
       "20    354\n",
       "13    327\n",
       "12    320\n",
       "4     317\n",
       "2     302\n",
       "10    294\n",
       "9     288\n",
       "dtype: int64"
      ]
     },
     "execution_count": 74,
     "metadata": {},
     "output_type": "execute_result"
    }
   ],
   "source": [
    "test_id.value_counts()"
   ]
  },
  {
   "cell_type": "markdown",
   "metadata": {},
   "source": [
    "### Activity labels"
   ]
  },
  {
   "cell_type": "code",
   "execution_count": 75,
   "metadata": {},
   "outputs": [],
   "source": [
    "with open('./uci_har_dataset/test/y_test.txt', 'r') as f:\n",
    "    test_tags = pd.Series([ int(x.strip()) for x in f.readlines() ])"
   ]
  },
  {
   "cell_type": "code",
   "execution_count": 76,
   "metadata": {},
   "outputs": [
    {
     "data": {
      "text/plain": [
       "0    5\n",
       "1    5\n",
       "2    5\n",
       "3    5\n",
       "4    5\n",
       "5    5\n",
       "6    5\n",
       "7    5\n",
       "8    5\n",
       "9    5\n",
       "dtype: int64"
      ]
     },
     "execution_count": 76,
     "metadata": {},
     "output_type": "execute_result"
    }
   ],
   "source": [
    "test_tags[0:10]"
   ]
  },
  {
   "cell_type": "markdown",
   "metadata": {},
   "source": [
    "### Feature vector for test set, combined with tags and participant IDs"
   ]
  },
  {
   "cell_type": "code",
   "execution_count": 79,
   "metadata": {},
   "outputs": [],
   "source": [
    "test_df = pd.read_csv('./uci_har_dataset/test/X_test_a.txt', sep=',', header=None).drop(0, axis=1)"
   ]
  },
  {
   "cell_type": "code",
   "execution_count": 80,
   "metadata": {},
   "outputs": [
    {
     "data": {
      "text/plain": [
       "(2947, 561)"
      ]
     },
     "execution_count": 80,
     "metadata": {},
     "output_type": "execute_result"
    }
   ],
   "source": [
    "test_df.shape"
   ]
  },
  {
   "cell_type": "code",
   "execution_count": 81,
   "metadata": {},
   "outputs": [],
   "source": [
    "test_df.columns = features\n",
    "test_df['id'] = test_id\n",
    "test_df['tag'] = test_tags"
   ]
  },
  {
   "cell_type": "code",
   "execution_count": 82,
   "metadata": {},
   "outputs": [
    {
     "data": {
      "text/html": [
       "<div>\n",
       "<style>\n",
       "    .dataframe thead tr:only-child th {\n",
       "        text-align: right;\n",
       "    }\n",
       "\n",
       "    .dataframe thead th {\n",
       "        text-align: left;\n",
       "    }\n",
       "\n",
       "    .dataframe tbody tr th {\n",
       "        vertical-align: top;\n",
       "    }\n",
       "</style>\n",
       "<table border=\"1\" class=\"dataframe\">\n",
       "  <thead>\n",
       "    <tr style=\"text-align: right;\">\n",
       "      <th></th>\n",
       "      <th>tBodyAcc-mean-X</th>\n",
       "      <th>tBodyAcc-mean-Y</th>\n",
       "      <th>tBodyAcc-mean-Z</th>\n",
       "      <th>tBodyAcc-std-X</th>\n",
       "      <th>tBodyAcc-std-Y</th>\n",
       "      <th>tBodyAcc-std-Z</th>\n",
       "      <th>tBodyAcc-mad-X</th>\n",
       "      <th>tBodyAcc-mad-Y</th>\n",
       "      <th>tBodyAcc-mad-Z</th>\n",
       "      <th>tBodyAcc-max-X</th>\n",
       "      <th>...</th>\n",
       "      <th>fBodyBodyGyroJerkMag-kurtosis</th>\n",
       "      <th>angle(tBodyAccMeangravity)</th>\n",
       "      <th>angle(tBodyAccJerkMean)gravityMean)</th>\n",
       "      <th>angle(tBodyGyroMeangravityMean)</th>\n",
       "      <th>angle(tBodyGyroJerkMeangravityMean)</th>\n",
       "      <th>angle(XgravityMean)</th>\n",
       "      <th>angle(YgravityMean)</th>\n",
       "      <th>angle(ZgravityMean)</th>\n",
       "      <th>id</th>\n",
       "      <th>tag</th>\n",
       "    </tr>\n",
       "  </thead>\n",
       "  <tbody>\n",
       "    <tr>\n",
       "      <th>0</th>\n",
       "      <td>0.257178</td>\n",
       "      <td>-0.023285</td>\n",
       "      <td>-0.014654</td>\n",
       "      <td>-0.938404</td>\n",
       "      <td>-0.920091</td>\n",
       "      <td>-0.667683</td>\n",
       "      <td>-0.952501</td>\n",
       "      <td>-0.925249</td>\n",
       "      <td>-0.674302</td>\n",
       "      <td>-0.894088</td>\n",
       "      <td>...</td>\n",
       "      <td>-0.705974</td>\n",
       "      <td>0.006462</td>\n",
       "      <td>0.162920</td>\n",
       "      <td>-0.825886</td>\n",
       "      <td>0.271151</td>\n",
       "      <td>-0.720009</td>\n",
       "      <td>0.276801</td>\n",
       "      <td>-0.057978</td>\n",
       "      <td>2</td>\n",
       "      <td>5</td>\n",
       "    </tr>\n",
       "    <tr>\n",
       "      <th>1</th>\n",
       "      <td>0.286027</td>\n",
       "      <td>-0.013163</td>\n",
       "      <td>-0.119083</td>\n",
       "      <td>-0.975415</td>\n",
       "      <td>-0.967458</td>\n",
       "      <td>-0.944958</td>\n",
       "      <td>-0.986799</td>\n",
       "      <td>-0.968401</td>\n",
       "      <td>-0.945823</td>\n",
       "      <td>-0.894088</td>\n",
       "      <td>...</td>\n",
       "      <td>-0.594944</td>\n",
       "      <td>-0.083495</td>\n",
       "      <td>0.017500</td>\n",
       "      <td>-0.434375</td>\n",
       "      <td>0.920593</td>\n",
       "      <td>-0.698091</td>\n",
       "      <td>0.281343</td>\n",
       "      <td>-0.083898</td>\n",
       "      <td>2</td>\n",
       "      <td>5</td>\n",
       "    </tr>\n",
       "    <tr>\n",
       "      <th>2</th>\n",
       "      <td>0.275485</td>\n",
       "      <td>-0.026050</td>\n",
       "      <td>-0.118152</td>\n",
       "      <td>-0.993819</td>\n",
       "      <td>-0.969926</td>\n",
       "      <td>-0.962748</td>\n",
       "      <td>-0.994403</td>\n",
       "      <td>-0.970735</td>\n",
       "      <td>-0.963483</td>\n",
       "      <td>-0.939260</td>\n",
       "      <td>...</td>\n",
       "      <td>-0.640736</td>\n",
       "      <td>-0.034956</td>\n",
       "      <td>0.202302</td>\n",
       "      <td>0.064103</td>\n",
       "      <td>0.145068</td>\n",
       "      <td>-0.702771</td>\n",
       "      <td>0.280083</td>\n",
       "      <td>-0.079346</td>\n",
       "      <td>2</td>\n",
       "      <td>5</td>\n",
       "    </tr>\n",
       "    <tr>\n",
       "      <th>3</th>\n",
       "      <td>0.270298</td>\n",
       "      <td>-0.032614</td>\n",
       "      <td>-0.117520</td>\n",
       "      <td>-0.994743</td>\n",
       "      <td>-0.973268</td>\n",
       "      <td>-0.967091</td>\n",
       "      <td>-0.995274</td>\n",
       "      <td>-0.974471</td>\n",
       "      <td>-0.968897</td>\n",
       "      <td>-0.938610</td>\n",
       "      <td>...</td>\n",
       "      <td>-0.736124</td>\n",
       "      <td>-0.017067</td>\n",
       "      <td>0.154438</td>\n",
       "      <td>0.340134</td>\n",
       "      <td>0.296407</td>\n",
       "      <td>-0.698954</td>\n",
       "      <td>0.284114</td>\n",
       "      <td>-0.077108</td>\n",
       "      <td>2</td>\n",
       "      <td>5</td>\n",
       "    </tr>\n",
       "    <tr>\n",
       "      <th>4</th>\n",
       "      <td>0.274833</td>\n",
       "      <td>-0.027848</td>\n",
       "      <td>-0.129527</td>\n",
       "      <td>-0.993852</td>\n",
       "      <td>-0.967445</td>\n",
       "      <td>-0.978295</td>\n",
       "      <td>-0.994111</td>\n",
       "      <td>-0.965953</td>\n",
       "      <td>-0.977346</td>\n",
       "      <td>-0.938610</td>\n",
       "      <td>...</td>\n",
       "      <td>-0.846595</td>\n",
       "      <td>-0.002223</td>\n",
       "      <td>-0.040046</td>\n",
       "      <td>0.736715</td>\n",
       "      <td>-0.118545</td>\n",
       "      <td>-0.692245</td>\n",
       "      <td>0.290722</td>\n",
       "      <td>-0.073857</td>\n",
       "      <td>2</td>\n",
       "      <td>5</td>\n",
       "    </tr>\n",
       "  </tbody>\n",
       "</table>\n",
       "<p>5 rows × 563 columns</p>\n",
       "</div>"
      ],
      "text/plain": [
       "   tBodyAcc-mean-X  tBodyAcc-mean-Y  tBodyAcc-mean-Z  tBodyAcc-std-X  \\\n",
       "0         0.257178        -0.023285        -0.014654       -0.938404   \n",
       "1         0.286027        -0.013163        -0.119083       -0.975415   \n",
       "2         0.275485        -0.026050        -0.118152       -0.993819   \n",
       "3         0.270298        -0.032614        -0.117520       -0.994743   \n",
       "4         0.274833        -0.027848        -0.129527       -0.993852   \n",
       "\n",
       "   tBodyAcc-std-Y  tBodyAcc-std-Z  tBodyAcc-mad-X  tBodyAcc-mad-Y  \\\n",
       "0       -0.920091       -0.667683       -0.952501       -0.925249   \n",
       "1       -0.967458       -0.944958       -0.986799       -0.968401   \n",
       "2       -0.969926       -0.962748       -0.994403       -0.970735   \n",
       "3       -0.973268       -0.967091       -0.995274       -0.974471   \n",
       "4       -0.967445       -0.978295       -0.994111       -0.965953   \n",
       "\n",
       "   tBodyAcc-mad-Z  tBodyAcc-max-X ...   fBodyBodyGyroJerkMag-kurtosis  \\\n",
       "0       -0.674302       -0.894088 ...                       -0.705974   \n",
       "1       -0.945823       -0.894088 ...                       -0.594944   \n",
       "2       -0.963483       -0.939260 ...                       -0.640736   \n",
       "3       -0.968897       -0.938610 ...                       -0.736124   \n",
       "4       -0.977346       -0.938610 ...                       -0.846595   \n",
       "\n",
       "   angle(tBodyAccMeangravity)  angle(tBodyAccJerkMean)gravityMean)  \\\n",
       "0                    0.006462                             0.162920   \n",
       "1                   -0.083495                             0.017500   \n",
       "2                   -0.034956                             0.202302   \n",
       "3                   -0.017067                             0.154438   \n",
       "4                   -0.002223                            -0.040046   \n",
       "\n",
       "   angle(tBodyGyroMeangravityMean)  angle(tBodyGyroJerkMeangravityMean)  \\\n",
       "0                        -0.825886                             0.271151   \n",
       "1                        -0.434375                             0.920593   \n",
       "2                         0.064103                             0.145068   \n",
       "3                         0.340134                             0.296407   \n",
       "4                         0.736715                            -0.118545   \n",
       "\n",
       "   angle(XgravityMean)  angle(YgravityMean)  angle(ZgravityMean)  id  tag  \n",
       "0            -0.720009             0.276801            -0.057978   2    5  \n",
       "1            -0.698091             0.281343            -0.083898   2    5  \n",
       "2            -0.702771             0.280083            -0.079346   2    5  \n",
       "3            -0.698954             0.284114            -0.077108   2    5  \n",
       "4            -0.692245             0.290722            -0.073857   2    5  \n",
       "\n",
       "[5 rows x 563 columns]"
      ]
     },
     "execution_count": 82,
     "metadata": {},
     "output_type": "execute_result"
    }
   ],
   "source": [
    "test_df.head()"
   ]
  },
  {
   "cell_type": "code",
   "execution_count": null,
   "metadata": {},
   "outputs": [],
   "source": []
  }
 ],
 "metadata": {
  "kernelspec": {
   "display_name": "Python 3",
   "language": "python",
   "name": "python3"
  },
  "language_info": {
   "codemirror_mode": {
    "name": "ipython",
    "version": 3
   },
   "file_extension": ".py",
   "mimetype": "text/x-python",
   "name": "python",
   "nbconvert_exporter": "python",
   "pygments_lexer": "ipython3",
   "version": "3.6.2"
  }
 },
 "nbformat": 4,
 "nbformat_minor": 2
}
